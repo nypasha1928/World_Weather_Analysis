{
 "cells": [
  {
   "cell_type": "code",
   "execution_count": 159,
   "metadata": {},
   "outputs": [],
   "source": [
    "# Import the dependencies.\n",
    "import pandas as pd\n",
    "import matplotlib.pyplot as plt\n",
    "import numpy as np"
   ]
  },
  {
   "cell_type": "code",
   "execution_count": 160,
   "metadata": {},
   "outputs": [
    {
     "data": {
      "text/plain": [
       "<zip at 0x1addd242988>"
      ]
     },
     "execution_count": 160,
     "metadata": {},
     "output_type": "execute_result"
    }
   ],
   "source": [
    "# Create a set of random latitude and longitude combinations.\n",
    "lats = np.random.uniform(low=-90.000, high=90.000, size=1500)\n",
    "lngs = np.random.uniform(low=-180.000, high=180.000, size=1500)\n",
    "lat_lngs = zip(lats, lngs)\n",
    "lat_lngs"
   ]
  },
  {
   "cell_type": "code",
   "execution_count": 161,
   "metadata": {},
   "outputs": [],
   "source": [
    "# Add the latitudes and longitudes to a list.\n",
    "coordinates = list(lat_lngs)"
   ]
  },
  {
   "cell_type": "code",
   "execution_count": 162,
   "metadata": {},
   "outputs": [],
   "source": [
    "# Use the citipy module to determine city based on latitude and longitude.\n",
    "from citipy import citipy"
   ]
  },
  {
   "cell_type": "code",
   "execution_count": 163,
   "metadata": {},
   "outputs": [
    {
     "data": {
      "text/plain": [
       "604"
      ]
     },
     "execution_count": 163,
     "metadata": {},
     "output_type": "execute_result"
    }
   ],
   "source": [
    "# Create a list for holding the cities.\n",
    "cities = []\n",
    "# Identify the nearest city for each latitude and longitude combination.\n",
    "for coordinate in coordinates:\n",
    "    city = citipy.nearest_city(coordinate[0], coordinate[1]).city_name\n",
    "\n",
    "    # If the city is unique, then we will add it to the cities list.\n",
    "    if city not in cities:\n",
    "        cities.append(city)\n",
    "# Print the city count to confirm sufficient count.\n",
    "len(cities)"
   ]
  },
  {
   "cell_type": "code",
   "execution_count": 164,
   "metadata": {},
   "outputs": [
    {
     "data": {
      "text/plain": [
       "'2.24.0'"
      ]
     },
     "execution_count": 164,
     "metadata": {},
     "output_type": "execute_result"
    }
   ],
   "source": [
    "import requests\n",
    "requests.__version__"
   ]
  },
  {
   "cell_type": "code",
   "execution_count": 165,
   "metadata": {},
   "outputs": [],
   "source": [
    "# 6.2.6\n",
    "# Import Dependencies, and Initialize an Empty List and Counters."
   ]
  },
  {
   "cell_type": "code",
   "execution_count": 166,
   "metadata": {},
   "outputs": [],
   "source": [
    "# Import the requests library.\n",
    "import requests\n",
    "\n",
    "# # Import the API key.\n",
    "# from config import weather_api_key\n",
    "weather_api_key=\"1069e5c9ff85b0b8841709f2188e9327\""
   ]
  },
  {
   "cell_type": "code",
   "execution_count": 167,
   "metadata": {},
   "outputs": [],
   "source": [
    "# Use the citipy module to determine city based on latitude and longitude.\n",
    "from citipy import citipy"
   ]
  },
  {
   "cell_type": "code",
   "execution_count": 168,
   "metadata": {},
   "outputs": [
    {
     "name": "stdout",
     "output_type": "stream",
     "text": [
      "http://api.openweathermap.org/data/2.5/weather?units=Imperial&APPID=1069e5c9ff85b0b8841709f2188e9327\n"
     ]
    }
   ],
   "source": [
    "# Starting URL for Weather Map API Call.\n",
    "url = \"http://api.openweathermap.org/data/2.5/weather?units=Imperial&APPID=\" + weather_api_key\n",
    "print(url)"
   ]
  },
  {
   "cell_type": "code",
   "execution_count": 169,
   "metadata": {},
   "outputs": [],
   "source": [
    "# Import the datetime module from the datetime library.\n",
    "from datetime import datetime"
   ]
  },
  {
   "cell_type": "code",
   "execution_count": 170,
   "metadata": {},
   "outputs": [
    {
     "name": "stdout",
     "output_type": "stream",
     "text": [
      "Beginning Data Retrieval     \n",
      "-----------------------------\n"
     ]
    }
   ],
   "source": [
    "# Create an empty list to hold the weather data.\n",
    "city_data = []\n",
    "# Print the beginning of the logging.\n",
    "print(\"Beginning Data Retrieval     \")\n",
    "print(\"-----------------------------\")\n",
    "\n",
    "# Create counters.\n",
    "record_count = 1\n",
    "set_count = 1 \n",
    "# we have initialized the counters at 1 because we want the first iteration \n",
    "# of the logging for each recorded response and the set to start at 1."
   ]
  },
  {
   "cell_type": "code",
   "execution_count": 171,
   "metadata": {},
   "outputs": [],
   "source": [
    "# Loop Through the List of Cities and Build the City URL.\n",
    "# Loop through all the cities in our list.\n",
    "for i in range(len(cities)):\n",
    "\n",
    "    # Group cities in sets of 50 for logging purposes.\n",
    "    if (i % 50 == 0 and i >= 50):\n",
    "        set_count += 1\n",
    "        record_count = 1\n",
    "    # Create endpoint URL with each city.\n",
    "    city_url = url + \"&q=\" + \"i\""
   ]
  },
  {
   "cell_type": "code",
   "execution_count": 172,
   "metadata": {},
   "outputs": [],
   "source": [
    "# we can use the enumerate() method as an alternative way to iterate through the list of cities and\n",
    "# retrieve both the index, and the city from the list.\n"
   ]
  },
  {
   "cell_type": "code",
   "execution_count": 173,
   "metadata": {},
   "outputs": [],
   "source": [
    "# Loop through all the cities in the list.\n",
    "# for i, city in enumerate(cities):\n",
    "\n",
    "#     # Group cities in sets of 50 for logging purposes.\n",
    "#     if (i % 50 == 0 and i >= 50):\n",
    "#         set_count += 1\n",
    "#         record_count = 1\n",
    "#     # Create endpoint URL with each city.\n",
    "#     city_url = url + \"&q=\" + city # >> This will find the corresponding weather data for the city instead of \n",
    "#     #finding the weather data for the first part of the city name.\n",
    "    \n",
    "\n",
    "#     # Log the URL, record, and set numbers and the city.\n",
    "#     print(f\"Processing Record {record_count} of Set {set_count} | {city}\")\n",
    "#     # Add 1 to the record count.\n",
    "#     record_count += 1"
   ]
  },
  {
   "cell_type": "code",
   "execution_count": 174,
   "metadata": {},
   "outputs": [],
   "source": [
    "# TRY_EXCEPT ERROR .\n",
    "# for city in cities:\n",
    "#     try:\n",
    "#         city_url = url + \"&q=\" + city\n",
    "#         weather = req.get(city_url).json()\n",
    "#         temp = weather[\"main\"][\"temp\"]\n",
    "#     except keyError:\n",
    "#         print(\"KeyError recieved for\" + city)\n",
    "#         continue\n",
    "#     print(\"It is currently \" + str(temp) + \" degrees in \" + city)    "
   ]
  },
  {
   "cell_type": "code",
   "execution_count": 175,
   "metadata": {},
   "outputs": [
    {
     "name": "stdout",
     "output_type": "stream",
     "text": [
      "Processing Record 1 of Set 13 | tocopilla\n",
      "Processing Record 2 of Set 13 | nabire\n",
      "Processing Record 3 of Set 13 | barrow\n",
      "Processing Record 4 of Set 13 | cidreira\n",
      "Processing Record 5 of Set 13 | vaini\n",
      "Processing Record 6 of Set 13 | cockburn town\n",
      "Processing Record 7 of Set 13 | hilo\n",
      "Processing Record 8 of Set 13 | valparaiso\n",
      "Processing Record 9 of Set 13 | taolanaro\n",
      "City not found. Skipping...\n",
      "Processing Record 10 of Set 13 | hasaki\n",
      "Processing Record 11 of Set 13 | rikitea\n",
      "Processing Record 12 of Set 13 | ushuaia\n",
      "Processing Record 13 of Set 13 | bredasdorp\n",
      "Processing Record 14 of Set 13 | samusu\n",
      "City not found. Skipping...\n",
      "Processing Record 15 of Set 13 | tumannyy\n",
      "City not found. Skipping...\n",
      "Processing Record 16 of Set 13 | lebu\n",
      "Processing Record 17 of Set 13 | klaksvik\n",
      "Processing Record 18 of Set 13 | plettenberg bay\n",
      "Processing Record 19 of Set 13 | mataura\n",
      "Processing Record 20 of Set 13 | punta arenas\n",
      "Processing Record 21 of Set 13 | yellowknife\n",
      "Processing Record 22 of Set 13 | new norfolk\n",
      "Processing Record 23 of Set 13 | inuvik\n",
      "Processing Record 24 of Set 13 | chudovo\n",
      "Processing Record 25 of Set 13 | busselton\n",
      "Processing Record 26 of Set 13 | luderitz\n",
      "Processing Record 27 of Set 13 | upernavik\n",
      "Processing Record 28 of Set 13 | talnakh\n",
      "Processing Record 29 of Set 13 | east london\n",
      "Processing Record 30 of Set 13 | santa rosa\n",
      "Processing Record 31 of Set 13 | nome\n",
      "Processing Record 32 of Set 13 | kapaa\n",
      "Processing Record 33 of Set 13 | danielskuil\n",
      "Processing Record 34 of Set 13 | satao\n",
      "Processing Record 35 of Set 13 | tilichiki\n",
      "Processing Record 36 of Set 13 | narsaq\n",
      "Processing Record 37 of Set 13 | tura\n",
      "Processing Record 38 of Set 13 | shingu\n",
      "Processing Record 39 of Set 13 | vila velha\n",
      "Processing Record 40 of Set 13 | bluff\n",
      "Processing Record 41 of Set 13 | qaanaaq\n",
      "Processing Record 42 of Set 13 | kodiak\n",
      "Processing Record 43 of Set 13 | pevek\n",
      "Processing Record 44 of Set 13 | victoria\n",
      "Processing Record 45 of Set 13 | imbituba\n",
      "Processing Record 46 of Set 13 | longyearbyen\n",
      "Processing Record 47 of Set 13 | sundsvall\n",
      "Processing Record 48 of Set 13 | castro\n",
      "Processing Record 49 of Set 13 | thompson\n",
      "Processing Record 50 of Set 13 | mahebourg\n",
      "Processing Record 1 of Set 14 | ji-parana\n",
      "City not found. Skipping...\n",
      "Processing Record 2 of Set 14 | sarangani\n",
      "Processing Record 3 of Set 14 | puerto ayora\n",
      "Processing Record 4 of Set 14 | bonavista\n",
      "Processing Record 5 of Set 14 | chuy\n",
      "Processing Record 6 of Set 14 | yulara\n",
      "Processing Record 7 of Set 14 | abu kamal\n",
      "Processing Record 8 of Set 14 | mantua\n",
      "Processing Record 9 of Set 14 | paamiut\n",
      "Processing Record 10 of Set 14 | cape town\n",
      "Processing Record 11 of Set 14 | carnarvon\n",
      "Processing Record 12 of Set 14 | hobart\n",
      "Processing Record 13 of Set 14 | maniitsoq\n",
      "Processing Record 14 of Set 14 | albany\n",
      "Processing Record 15 of Set 14 | fortuna\n",
      "Processing Record 16 of Set 14 | nautanwa\n",
      "Processing Record 17 of Set 14 | hermanus\n",
      "Processing Record 18 of Set 14 | coello\n",
      "Processing Record 19 of Set 14 | tuktoyaktuk\n",
      "Processing Record 20 of Set 14 | avarua\n",
      "Processing Record 21 of Set 14 | saskylakh\n",
      "Processing Record 22 of Set 14 | lulea\n",
      "Processing Record 23 of Set 14 | atar\n",
      "Processing Record 24 of Set 14 | cabo san lucas\n",
      "Processing Record 25 of Set 14 | domoni\n",
      "Processing Record 26 of Set 14 | juifang\n",
      "City not found. Skipping...\n",
      "Processing Record 27 of Set 14 | muroto\n",
      "Processing Record 28 of Set 14 | brookhaven\n",
      "Processing Record 29 of Set 14 | kurya\n",
      "Processing Record 30 of Set 14 | goulburn\n",
      "Processing Record 31 of Set 14 | chapais\n",
      "Processing Record 32 of Set 14 | atuona\n",
      "Processing Record 33 of Set 14 | rio brilhante\n",
      "Processing Record 34 of Set 14 | pangnirtung\n",
      "Processing Record 35 of Set 14 | illoqqortoormiut\n",
      "City not found. Skipping...\n",
      "Processing Record 36 of Set 14 | tabou\n",
      "Processing Record 37 of Set 14 | hami\n",
      "Processing Record 38 of Set 14 | dingle\n",
      "Processing Record 39 of Set 14 | turayf\n",
      "Processing Record 40 of Set 14 | jamestown\n",
      "Processing Record 41 of Set 14 | mehamn\n",
      "Processing Record 42 of Set 14 | porto novo\n",
      "Processing Record 43 of Set 14 | tsihombe\n",
      "City not found. Skipping...\n",
      "Processing Record 44 of Set 14 | hastings\n",
      "Processing Record 45 of Set 14 | kaisiadorys\n",
      "Processing Record 46 of Set 14 | shibetsu\n",
      "Processing Record 47 of Set 14 | teguldet\n",
      "Processing Record 48 of Set 14 | port lincoln\n",
      "Processing Record 49 of Set 14 | zhigansk\n",
      "Processing Record 50 of Set 14 | atikokan\n",
      "Processing Record 1 of Set 15 | yar-sale\n",
      "Processing Record 2 of Set 15 | walvis bay\n",
      "Processing Record 3 of Set 15 | iqaluit\n",
      "Processing Record 4 of Set 15 | port elizabeth\n",
      "Processing Record 5 of Set 15 | nouadhibou\n",
      "Processing Record 6 of Set 15 | norman wells\n",
      "Processing Record 7 of Set 15 | twentynine palms\n",
      "Processing Record 8 of Set 15 | kalakamati\n",
      "Processing Record 9 of Set 15 | yumen\n",
      "Processing Record 10 of Set 15 | kayes\n",
      "Processing Record 11 of Set 15 | alappuzha\n",
      "Processing Record 12 of Set 15 | iberia\n",
      "Processing Record 13 of Set 15 | micco\n",
      "Processing Record 14 of Set 15 | beidao\n",
      "Processing Record 15 of Set 15 | havre-saint-pierre\n",
      "Processing Record 16 of Set 15 | portland\n",
      "Processing Record 17 of Set 15 | kavieng\n",
      "Processing Record 18 of Set 15 | abaete\n",
      "Processing Record 19 of Set 15 | carutapera\n",
      "Processing Record 20 of Set 15 | san felipe\n",
      "Processing Record 21 of Set 15 | belushya guba\n",
      "City not found. Skipping...\n",
      "Processing Record 22 of Set 15 | kandrian\n",
      "Processing Record 23 of Set 15 | palmas bellas\n",
      "Processing Record 24 of Set 15 | tupik\n",
      "Processing Record 25 of Set 15 | komsomolskiy\n",
      "Processing Record 26 of Set 15 | vaitupu\n",
      "City not found. Skipping...\n",
      "Processing Record 27 of Set 15 | alofi\n",
      "Processing Record 28 of Set 15 | rio grande\n",
      "Processing Record 29 of Set 15 | saint-philippe\n",
      "Processing Record 30 of Set 15 | ahipara\n",
      "Processing Record 31 of Set 15 | esperance\n",
      "Processing Record 32 of Set 15 | khatanga\n",
      "Processing Record 33 of Set 15 | san marcos\n",
      "Processing Record 34 of Set 15 | oksfjord\n",
      "Processing Record 35 of Set 15 | nizhneyansk\n",
      "City not found. Skipping...\n",
      "Processing Record 36 of Set 15 | kolosovka\n",
      "Processing Record 37 of Set 15 | port hedland\n",
      "Processing Record 38 of Set 15 | sao sebastiao\n",
      "Processing Record 39 of Set 15 | port alfred\n",
      "Processing Record 40 of Set 15 | machilipatnam\n",
      "Processing Record 41 of Set 15 | phan rang\n",
      "City not found. Skipping...\n",
      "Processing Record 42 of Set 15 | cherlak\n",
      "Processing Record 43 of Set 15 | auki\n",
      "Processing Record 44 of Set 15 | berezovka\n",
      "Processing Record 45 of Set 15 | cap malheureux\n",
      "Processing Record 46 of Set 15 | ribeira grande\n",
      "Processing Record 47 of Set 15 | hirara\n",
      "Processing Record 48 of Set 15 | cherskiy\n",
      "Processing Record 49 of Set 15 | tautira\n",
      "Processing Record 50 of Set 15 | isangel\n",
      "Processing Record 1 of Set 16 | komyshnya\n",
      "Processing Record 2 of Set 16 | manado\n",
      "Processing Record 3 of Set 16 | hamilton\n",
      "Processing Record 4 of Set 16 | mar del plata\n",
      "Processing Record 5 of Set 16 | huarmey\n",
      "Processing Record 6 of Set 16 | lavrentiya\n",
      "Processing Record 7 of Set 16 | arraial do cabo\n",
      "Processing Record 8 of Set 16 | forbes\n",
      "Processing Record 9 of Set 16 | stamsund\n",
      "City not found. Skipping...\n",
      "Processing Record 10 of Set 16 | linqiong\n",
      "Processing Record 11 of Set 16 | lexington park\n",
      "Processing Record 12 of Set 16 | pasvalys\n",
      "Processing Record 13 of Set 16 | te anau\n",
      "Processing Record 14 of Set 16 | sao joao da barra\n",
      "Processing Record 15 of Set 16 | aklavik\n",
      "Processing Record 16 of Set 16 | saint george\n",
      "Processing Record 17 of Set 16 | liling\n",
      "Processing Record 18 of Set 16 | tanete\n",
      "Processing Record 19 of Set 16 | touros\n",
      "Processing Record 20 of Set 16 | geraldton\n",
      "Processing Record 21 of Set 16 | port macquarie\n",
      "Processing Record 22 of Set 16 | masuguru\n",
      "Processing Record 23 of Set 16 | makakilo city\n",
      "Processing Record 24 of Set 16 | bethel\n",
      "Processing Record 25 of Set 16 | fairbanks\n",
      "Processing Record 26 of Set 16 | lorengau\n",
      "Processing Record 27 of Set 16 | samarai\n",
      "Processing Record 28 of Set 16 | tazovskiy\n",
      "Processing Record 29 of Set 16 | palasa\n",
      "Processing Record 30 of Set 16 | mancio lima\n",
      "Processing Record 31 of Set 16 | nantucket\n",
      "Processing Record 32 of Set 16 | kasongo-lunda\n",
      "Processing Record 33 of Set 16 | ca mau\n",
      "Processing Record 34 of Set 16 | mende\n",
      "Processing Record 35 of Set 16 | leningradskiy\n",
      "Processing Record 36 of Set 16 | linxia\n",
      "Processing Record 37 of Set 16 | tiznit\n"
     ]
    },
    {
     "name": "stdout",
     "output_type": "stream",
     "text": [
      "Processing Record 38 of Set 16 | guapi\n",
      "Processing Record 39 of Set 16 | tiksi\n",
      "Processing Record 40 of Set 16 | kangaatsiaq\n",
      "Processing Record 41 of Set 16 | brokopondo\n",
      "Processing Record 42 of Set 16 | los llanos de aridane\n",
      "Processing Record 43 of Set 16 | gbarnga\n",
      "Processing Record 44 of Set 16 | eau claire\n",
      "Processing Record 45 of Set 16 | saint-pierre\n",
      "Processing Record 46 of Set 16 | saint-francois\n",
      "Processing Record 47 of Set 16 | warrnambool\n",
      "Processing Record 48 of Set 16 | mopipi\n",
      "Processing Record 49 of Set 16 | higuey\n",
      "City not found. Skipping...\n",
      "Processing Record 50 of Set 16 | huilong\n",
      "Processing Record 1 of Set 17 | ayan\n",
      "Processing Record 2 of Set 17 | porto velho\n",
      "Processing Record 3 of Set 17 | bengkulu\n",
      "Processing Record 4 of Set 17 | comodoro rivadavia\n",
      "Processing Record 5 of Set 17 | dikson\n",
      "Processing Record 6 of Set 17 | tasiilaq\n",
      "Processing Record 7 of Set 17 | vestmannaeyjar\n",
      "Processing Record 8 of Set 17 | stephanskirchen\n",
      "Processing Record 9 of Set 17 | vanimo\n",
      "Processing Record 10 of Set 17 | kahului\n",
      "Processing Record 11 of Set 17 | bereda\n",
      "Processing Record 12 of Set 17 | amderma\n",
      "City not found. Skipping...\n",
      "Processing Record 13 of Set 17 | sampit\n",
      "Processing Record 14 of Set 17 | chokurdakh\n",
      "Processing Record 15 of Set 17 | besikduzu\n",
      "Processing Record 16 of Set 17 | kiruna\n",
      "Processing Record 17 of Set 17 | alexandria\n",
      "Processing Record 18 of Set 17 | berbera\n",
      "Processing Record 19 of Set 17 | haines junction\n",
      "Processing Record 20 of Set 17 | quelimane\n",
      "Processing Record 21 of Set 17 | sumbawa\n",
      "City not found. Skipping...\n",
      "Processing Record 22 of Set 17 | saint marys\n",
      "Processing Record 23 of Set 17 | asyut\n",
      "Processing Record 24 of Set 17 | rafraf\n",
      "Processing Record 25 of Set 17 | sechura\n",
      "Processing Record 26 of Set 17 | kaitangata\n",
      "Processing Record 27 of Set 17 | snyder\n",
      "Processing Record 28 of Set 17 | bath\n",
      "Processing Record 29 of Set 17 | palauig\n",
      "Processing Record 30 of Set 17 | livani\n",
      "Processing Record 31 of Set 17 | nizhnyaya tavda\n",
      "Processing Record 32 of Set 17 | ganzhou\n",
      "Processing Record 33 of Set 17 | jinchengjiang\n",
      "City not found. Skipping...\n",
      "Processing Record 34 of Set 17 | gaya\n",
      "Processing Record 35 of Set 17 | novooleksiyivka\n",
      "Processing Record 36 of Set 17 | airai\n",
      "Processing Record 37 of Set 17 | trinidad\n",
      "Processing Record 38 of Set 17 | estevan\n",
      "Processing Record 39 of Set 17 | ilulissat\n",
      "Processing Record 40 of Set 17 | wanaka\n",
      "Processing Record 41 of Set 17 | provideniya\n",
      "Processing Record 42 of Set 17 | omboue\n",
      "Processing Record 43 of Set 17 | nikolskoye\n",
      "Processing Record 44 of Set 17 | namibe\n",
      "Processing Record 45 of Set 17 | butaritari\n",
      "Processing Record 46 of Set 17 | ponta do sol\n",
      "Processing Record 47 of Set 17 | singleton\n",
      "Processing Record 48 of Set 17 | emba\n",
      "Processing Record 49 of Set 17 | camacha\n",
      "Processing Record 50 of Set 17 | kununurra\n",
      "Processing Record 1 of Set 18 | bud\n",
      "Processing Record 2 of Set 18 | conde\n",
      "Processing Record 3 of Set 18 | sao lourenco do sul\n",
      "Processing Record 4 of Set 18 | motygino\n",
      "Processing Record 5 of Set 18 | caravelas\n",
      "Processing Record 6 of Set 18 | pak phanang\n",
      "Processing Record 7 of Set 18 | la asuncion\n",
      "Processing Record 8 of Set 18 | asau\n",
      "Processing Record 9 of Set 18 | pasni\n",
      "Processing Record 10 of Set 18 | ovada\n",
      "Processing Record 11 of Set 18 | buraydah\n",
      "Processing Record 12 of Set 18 | semme\n",
      "Processing Record 13 of Set 18 | saleaula\n",
      "City not found. Skipping...\n",
      "Processing Record 14 of Set 18 | saint stephen\n",
      "Processing Record 15 of Set 18 | pesqueria\n",
      "Processing Record 16 of Set 18 | sao filipe\n",
      "Processing Record 17 of Set 18 | sisimiut\n",
      "Processing Record 18 of Set 18 | kharan\n",
      "Processing Record 19 of Set 18 | matto\n",
      "City not found. Skipping...\n",
      "Processing Record 20 of Set 18 | constantine\n",
      "Processing Record 21 of Set 18 | anyang\n",
      "Processing Record 22 of Set 18 | rommerskirchen\n",
      "Processing Record 23 of Set 18 | georgetown\n",
      "Processing Record 24 of Set 18 | shache\n",
      "Processing Record 25 of Set 18 | imeni poliny osipenko\n",
      "Processing Record 26 of Set 18 | sebring\n",
      "Processing Record 27 of Set 18 | marathon\n",
      "Processing Record 28 of Set 18 | annau\n",
      "Processing Record 29 of Set 18 | somerset\n",
      "Processing Record 30 of Set 18 | goderich\n",
      "Processing Record 31 of Set 18 | itaiba\n",
      "Processing Record 32 of Set 18 | ishigaki\n",
      "Processing Record 33 of Set 18 | jiddah\n",
      "City not found. Skipping...\n",
      "Processing Record 34 of Set 18 | sinnamary\n",
      "Processing Record 35 of Set 18 | san ramon de la nueva oran\n",
      "Processing Record 36 of Set 18 | aswan\n",
      "Processing Record 37 of Set 18 | vardo\n",
      "Processing Record 38 of Set 18 | clyde river\n",
      "Processing Record 39 of Set 18 | istok\n",
      "Processing Record 40 of Set 18 | shenzhen\n",
      "Processing Record 41 of Set 18 | grand river south east\n",
      "City not found. Skipping...\n",
      "Processing Record 42 of Set 18 | smirnykh\n",
      "Processing Record 43 of Set 18 | sarkand\n",
      "Processing Record 44 of Set 18 | tommot\n",
      "Processing Record 45 of Set 18 | crixas\n",
      "Processing Record 46 of Set 18 | khash\n",
      "Processing Record 47 of Set 18 | nyzhni sirohozy\n",
      "Processing Record 48 of Set 18 | kuytun\n",
      "Processing Record 49 of Set 18 | namatanai\n",
      "Processing Record 50 of Set 18 | tivaouane\n",
      "Processing Record 1 of Set 19 | le port\n",
      "Processing Record 2 of Set 19 | urumqi\n",
      "Processing Record 3 of Set 19 | marawi\n",
      "Processing Record 4 of Set 19 | moron\n",
      "Processing Record 5 of Set 19 | dinga\n",
      "Processing Record 6 of Set 19 | hambantota\n",
      "Processing Record 7 of Set 19 | saint-georges\n",
      "Processing Record 8 of Set 19 | matamoros\n",
      "Processing Record 9 of Set 19 | lasa\n",
      "Processing Record 10 of Set 19 | wum\n",
      "Processing Record 11 of Set 19 | lunsar\n",
      "Processing Record 12 of Set 19 | padang\n",
      "Processing Record 13 of Set 19 | olafsvik\n",
      "Processing Record 14 of Set 19 | rawson\n",
      "Processing Record 15 of Set 19 | amapa\n",
      "Processing Record 16 of Set 19 | mahon\n",
      "Processing Record 17 of Set 19 | saint-avold\n",
      "Processing Record 18 of Set 19 | raga\n",
      "Processing Record 19 of Set 19 | phalaborwa\n",
      "Processing Record 20 of Set 19 | eskasem\n",
      "City not found. Skipping...\n",
      "Processing Record 21 of Set 19 | praia\n",
      "Processing Record 22 of Set 19 | torres\n",
      "Processing Record 23 of Set 19 | codrington\n",
      "Processing Record 24 of Set 19 | cabrobo\n",
      "Processing Record 25 of Set 19 | gueugnon\n",
      "Processing Record 26 of Set 19 | pacific grove\n",
      "Processing Record 27 of Set 19 | fort nelson\n",
      "Processing Record 28 of Set 19 | itaituba\n",
      "Processing Record 29 of Set 19 | leh\n",
      "Processing Record 30 of Set 19 | avera\n",
      "Processing Record 31 of Set 19 | hihifo\n",
      "City not found. Skipping...\n",
      "Processing Record 32 of Set 19 | ulladulla\n",
      "Processing Record 33 of Set 19 | toora-khem\n",
      "Processing Record 34 of Set 19 | axim\n",
      "Processing Record 35 of Set 19 | montrose\n",
      "Processing Record 36 of Set 19 | santa fe\n",
      "Processing Record 37 of Set 19 | rio gallegos\n",
      "Processing Record 38 of Set 19 | cah ab\n",
      "City not found. Skipping...\n",
      "Processing Record 39 of Set 19 | barentsburg\n",
      "City not found. Skipping...\n",
      "Processing Record 40 of Set 19 | katsuura\n",
      "Processing Record 41 of Set 19 | hualmay\n",
      "Processing Record 42 of Set 19 | coihaique\n",
      "Processing Record 43 of Set 19 | mocambique\n",
      "City not found. Skipping...\n",
      "Processing Record 44 of Set 19 | brae\n",
      "Processing Record 45 of Set 19 | tawkar\n",
      "City not found. Skipping...\n",
      "Processing Record 46 of Set 19 | torbay\n",
      "Processing Record 47 of Set 19 | kupang\n",
      "Processing Record 48 of Set 19 | prado\n",
      "Processing Record 49 of Set 19 | road town\n",
      "Processing Record 50 of Set 19 | macultepec\n",
      "Processing Record 1 of Set 20 | banda aceh\n",
      "Processing Record 2 of Set 20 | labuhan\n",
      "Processing Record 3 of Set 20 | mogadishu\n",
      "Processing Record 4 of Set 20 | callaway\n",
      "Processing Record 5 of Set 20 | muriwai beach\n",
      "Processing Record 6 of Set 20 | bambous virieux\n",
      "Processing Record 7 of Set 20 | totness\n",
      "Processing Record 8 of Set 20 | bichura\n",
      "Processing Record 9 of Set 20 | tonantins\n",
      "Processing Record 10 of Set 20 | acapulco\n",
      "Processing Record 11 of Set 20 | kamiichi\n",
      "Processing Record 12 of Set 20 | oussouye\n",
      "Processing Record 13 of Set 20 | hithadhoo\n",
      "Processing Record 14 of Set 20 | chimore\n",
      "Processing Record 15 of Set 20 | kiama\n",
      "Processing Record 16 of Set 20 | adrar\n",
      "Processing Record 17 of Set 20 | cabatuan\n",
      "Processing Record 18 of Set 20 | esperantinopolis\n",
      "Processing Record 19 of Set 20 | wilhelmshaven\n",
      "Processing Record 20 of Set 20 | challapata\n",
      "Processing Record 21 of Set 20 | bubaque\n",
      "Processing Record 22 of Set 20 | gorontalo\n",
      "Processing Record 23 of Set 20 | tombouctou\n"
     ]
    },
    {
     "name": "stdout",
     "output_type": "stream",
     "text": [
      "Processing Record 24 of Set 20 | weymouth\n",
      "Processing Record 25 of Set 20 | qaqortoq\n",
      "Processing Record 26 of Set 20 | guanica\n",
      "Processing Record 27 of Set 20 | yanchukan\n",
      "City not found. Skipping...\n",
      "Processing Record 28 of Set 20 | bilma\n",
      "Processing Record 29 of Set 20 | oyama\n",
      "Processing Record 30 of Set 20 | lukovetskiy\n",
      "Processing Record 31 of Set 20 | tuatapere\n",
      "Processing Record 32 of Set 20 | lebyazhye\n",
      "Processing Record 33 of Set 20 | muravlenko\n",
      "Processing Record 34 of Set 20 | curuca\n",
      "Processing Record 35 of Set 20 | guerrero\n",
      "Processing Record 36 of Set 20 | parkes\n",
      "Processing Record 37 of Set 20 | dongying\n",
      "Processing Record 38 of Set 20 | kurilsk\n",
      "Processing Record 39 of Set 20 | bukachacha\n",
      "Processing Record 40 of Set 20 | kieta\n",
      "Processing Record 41 of Set 20 | port blair\n",
      "Processing Record 42 of Set 20 | zhanaozen\n",
      "Processing Record 43 of Set 20 | honiara\n",
      "Processing Record 44 of Set 20 | puerto palomas\n",
      "Processing Record 45 of Set 20 | soyo\n",
      "Processing Record 46 of Set 20 | san miguel\n",
      "Processing Record 47 of Set 20 | mys shmidta\n",
      "City not found. Skipping...\n",
      "Processing Record 48 of Set 20 | kokkola\n",
      "Processing Record 49 of Set 20 | ikot ekpene\n",
      "Processing Record 50 of Set 20 | zarubino\n",
      "Processing Record 1 of Set 21 | ukiah\n",
      "Processing Record 2 of Set 21 | dunedin\n",
      "Processing Record 3 of Set 21 | luoyang\n",
      "Processing Record 4 of Set 21 | saldanha\n",
      "Processing Record 5 of Set 21 | salalah\n",
      "Processing Record 6 of Set 21 | harper\n",
      "Processing Record 7 of Set 21 | san carlos de bariloche\n",
      "Processing Record 8 of Set 21 | sidi ali\n",
      "Processing Record 9 of Set 21 | sentyabrskiy\n",
      "City not found. Skipping...\n",
      "Processing Record 10 of Set 21 | nishihara\n",
      "Processing Record 11 of Set 21 | bull savanna\n",
      "Processing Record 12 of Set 21 | kampot\n",
      "Processing Record 13 of Set 21 | sitka\n",
      "Processing Record 14 of Set 21 | dudinka\n",
      "Processing Record 15 of Set 21 | attawapiskat\n",
      "City not found. Skipping...\n",
      "Processing Record 16 of Set 21 | guerrero negro\n",
      "Processing Record 17 of Set 21 | mayo\n",
      "Processing Record 18 of Set 21 | cordoba\n",
      "Processing Record 19 of Set 21 | la palma\n",
      "Processing Record 20 of Set 21 | ixtapa\n",
      "Processing Record 21 of Set 21 | agirish\n",
      "Processing Record 22 of Set 21 | hobyo\n",
      "Processing Record 23 of Set 21 | sumkino\n",
      "Processing Record 24 of Set 21 | afrikanda\n",
      "Processing Record 25 of Set 21 | kondoa\n",
      "Processing Record 26 of Set 21 | lolua\n",
      "City not found. Skipping...\n",
      "Processing Record 27 of Set 21 | sioux lookout\n",
      "Processing Record 28 of Set 21 | searcy\n",
      "Processing Record 29 of Set 21 | meulaboh\n",
      "Processing Record 30 of Set 21 | labutta\n",
      "City not found. Skipping...\n",
      "Processing Record 31 of Set 21 | gushikawa\n",
      "Processing Record 32 of Set 21 | gombong\n",
      "Processing Record 33 of Set 21 | ihosy\n",
      "Processing Record 34 of Set 21 | waipawa\n",
      "Processing Record 35 of Set 21 | san quintin\n",
      "Processing Record 36 of Set 21 | muros\n",
      "Processing Record 37 of Set 21 | pochutla\n",
      "Processing Record 38 of Set 21 | swabi\n",
      "Processing Record 39 of Set 21 | diffa\n",
      "Processing Record 40 of Set 21 | umm lajj\n",
      "Processing Record 41 of Set 21 | koumac\n",
      "Processing Record 42 of Set 21 | port-gentil\n",
      "Processing Record 43 of Set 21 | oudtshoorn\n",
      "Processing Record 44 of Set 21 | tari\n",
      "Processing Record 45 of Set 21 | anloga\n",
      "Processing Record 46 of Set 21 | burley\n",
      "Processing Record 47 of Set 21 | tigil\n",
      "Processing Record 48 of Set 21 | chumikan\n",
      "Processing Record 49 of Set 21 | nanortalik\n",
      "Processing Record 50 of Set 21 | wieliczka\n",
      "Processing Record 1 of Set 22 | mackay\n",
      "Processing Record 2 of Set 22 | villa carlos paz\n",
      "Processing Record 3 of Set 22 | jumla\n",
      "Processing Record 4 of Set 22 | lata\n",
      "Processing Record 5 of Set 22 | narrabri\n",
      "Processing Record 6 of Set 22 | hofn\n",
      "Processing Record 7 of Set 22 | anahuac\n",
      "Processing Record 8 of Set 22 | lensk\n",
      "Processing Record 9 of Set 22 | kostomuksha\n",
      "Processing Record 10 of Set 22 | achalpur\n",
      "Processing Record 11 of Set 22 | prince rupert\n",
      "Processing Record 12 of Set 22 | andenes\n",
      "Processing Record 13 of Set 22 | itarema\n",
      "Processing Record 14 of Set 22 | kenai\n",
      "Processing Record 15 of Set 22 | atherton\n",
      "Processing Record 16 of Set 22 | daoukro\n",
      "Processing Record 17 of Set 22 | bac lieu\n",
      "Processing Record 18 of Set 22 | kolomak\n",
      "Processing Record 19 of Set 22 | guhagar\n",
      "Processing Record 20 of Set 22 | jiuquan\n",
      "Processing Record 21 of Set 22 | pizarro\n",
      "Processing Record 22 of Set 22 | mayna\n",
      "Processing Record 23 of Set 22 | kendari\n",
      "Processing Record 24 of Set 22 | lima\n",
      "Processing Record 25 of Set 22 | teruel\n",
      "Processing Record 26 of Set 22 | cayenne\n",
      "Processing Record 27 of Set 22 | pimentel\n",
      "Processing Record 28 of Set 22 | waingapu\n",
      "Processing Record 29 of Set 22 | tapes\n",
      "Processing Record 30 of Set 22 | leshukonskoye\n",
      "Processing Record 31 of Set 22 | brigantine\n",
      "Processing Record 32 of Set 22 | jizan\n",
      "Processing Record 33 of Set 22 | hoima\n",
      "Processing Record 34 of Set 22 | trapani\n",
      "Processing Record 35 of Set 22 | cabedelo\n",
      "Processing Record 36 of Set 22 | saint anthony\n",
      "Processing Record 37 of Set 22 | mount gambier\n",
      "Processing Record 38 of Set 22 | sorland\n",
      "Processing Record 39 of Set 22 | north bend\n",
      "Processing Record 40 of Set 22 | veracruz\n",
      "Processing Record 41 of Set 22 | marzuq\n",
      "Processing Record 42 of Set 22 | assiniboia\n",
      "Processing Record 43 of Set 22 | whitehorse\n",
      "Processing Record 44 of Set 22 | dalvik\n",
      "Processing Record 45 of Set 22 | udachnyy\n",
      "Processing Record 46 of Set 22 | ust-maya\n",
      "Processing Record 47 of Set 22 | pesaro\n",
      "Processing Record 48 of Set 22 | nioro\n",
      "Processing Record 49 of Set 22 | kuche\n",
      "City not found. Skipping...\n",
      "Processing Record 50 of Set 22 | la sarre\n",
      "Processing Record 1 of Set 23 | vangaindrano\n",
      "Processing Record 2 of Set 23 | dubbo\n",
      "Processing Record 3 of Set 23 | sonqor\n",
      "Processing Record 4 of Set 23 | birmitrapur\n",
      "Processing Record 5 of Set 23 | freeport\n",
      "Processing Record 6 of Set 23 | porbandar\n",
      "Processing Record 7 of Set 23 | gubkinskiy\n",
      "Processing Record 8 of Set 23 | mizan teferi\n",
      "Processing Record 9 of Set 23 | henderson\n",
      "Processing Record 10 of Set 23 | juneau\n",
      "Processing Record 11 of Set 23 | pokhara\n",
      "Processing Record 12 of Set 23 | mme\n",
      "City not found. Skipping...\n",
      "Processing Record 13 of Set 23 | viligili\n",
      "City not found. Skipping...\n",
      "Processing Record 14 of Set 23 | gazni\n",
      "City not found. Skipping...\n",
      "Processing Record 15 of Set 23 | neuquen\n",
      "Processing Record 16 of Set 23 | lucapa\n",
      "Processing Record 17 of Set 23 | quatre cocos\n",
      "Processing Record 18 of Set 23 | bilibino\n",
      "Processing Record 19 of Set 23 | kharp\n",
      "Processing Record 20 of Set 23 | grindavik\n",
      "Processing Record 21 of Set 23 | kruisfontein\n",
      "Processing Record 22 of Set 23 | ambon\n",
      "Processing Record 23 of Set 23 | zakupy\n",
      "Processing Record 24 of Set 23 | dovers\n",
      "Processing Record 25 of Set 23 | dicabisagan\n",
      "Processing Record 26 of Set 23 | eldorado\n",
      "Processing Record 27 of Set 23 | mount isa\n",
      "Processing Record 28 of Set 23 | longhua\n",
      "Processing Record 29 of Set 23 | laguna\n",
      "Processing Record 30 of Set 23 | pinhao\n",
      "Processing Record 31 of Set 23 | oloron-sainte-marie\n",
      "Processing Record 32 of Set 23 | lapeer\n",
      "Processing Record 33 of Set 23 | raton\n",
      "Processing Record 34 of Set 23 | constitucion\n",
      "Processing Record 35 of Set 23 | baymak\n",
      "Processing Record 36 of Set 23 | alyangula\n",
      "Processing Record 37 of Set 23 | jinchang\n",
      "Processing Record 38 of Set 23 | strezhevoy\n",
      "Processing Record 39 of Set 23 | tsaratanana\n",
      "Processing Record 40 of Set 23 | shenjiamen\n",
      "Processing Record 41 of Set 23 | nisia floresta\n",
      "Processing Record 42 of Set 23 | halalo\n",
      "City not found. Skipping...\n",
      "Processing Record 43 of Set 23 | covilha\n",
      "Processing Record 44 of Set 23 | ancud\n",
      "Processing Record 45 of Set 23 | anadyr\n",
      "Processing Record 46 of Set 23 | naze\n",
      "Processing Record 47 of Set 23 | saint-augustin\n",
      "Processing Record 48 of Set 23 | carupano\n",
      "Processing Record 49 of Set 23 | buchanan\n",
      "Processing Record 50 of Set 23 | leninskoye\n",
      "Processing Record 1 of Set 24 | kamenskoye\n",
      "City not found. Skipping...\n",
      "Processing Record 2 of Set 24 | tias\n",
      "Processing Record 3 of Set 24 | mayor pablo lagerenza\n",
      "Processing Record 4 of Set 24 | bundaberg\n",
      "Processing Record 5 of Set 24 | kirakira\n",
      "Processing Record 6 of Set 24 | kaiyuan\n",
      "Processing Record 7 of Set 24 | talara\n",
      "Processing Record 8 of Set 24 | neryungri\n",
      "Processing Record 9 of Set 24 | rakhya\n",
      "City not found. Skipping...\n",
      "Processing Record 10 of Set 24 | kutum\n",
      "Processing Record 11 of Set 24 | ati\n",
      "Processing Record 12 of Set 24 | vila\n"
     ]
    },
    {
     "name": "stdout",
     "output_type": "stream",
     "text": [
      "Processing Record 13 of Set 24 | lompoc\n",
      "Processing Record 14 of Set 24 | burgeo\n",
      "Processing Record 15 of Set 24 | pisco\n",
      "Processing Record 16 of Set 24 | quartucciu\n",
      "Processing Record 17 of Set 24 | kracheh\n",
      "City not found. Skipping...\n",
      "Processing Record 18 of Set 24 | evensk\n",
      "Processing Record 19 of Set 24 | tessalit\n",
      "Processing Record 20 of Set 24 | lahaina\n",
      "Processing Record 21 of Set 24 | chiredzi\n",
      "Processing Record 22 of Set 24 | bay roberts\n",
      "Processing Record 23 of Set 24 | arkhangelos\n",
      "City not found. Skipping...\n",
      "Processing Record 24 of Set 24 | pimenta bueno\n",
      "Processing Record 25 of Set 24 | boende\n",
      "Processing Record 26 of Set 24 | klingenthal\n",
      "Processing Record 27 of Set 24 | salgado de sao felix\n",
      "Processing Record 28 of Set 24 | coahuayana\n",
      "Processing Record 29 of Set 24 | severo-kurilsk\n",
      "Processing Record 30 of Set 24 | svetlaya\n",
      "Processing Record 31 of Set 24 | itaberai\n",
      "Processing Record 32 of Set 24 | konstantinovka\n",
      "Processing Record 33 of Set 24 | westport\n",
      "Processing Record 34 of Set 24 | baykit\n",
      "Processing Record 35 of Set 24 | jesus carranza\n",
      "Processing Record 36 of Set 24 | eluru\n",
      "Processing Record 37 of Set 24 | santo domingo\n",
      "Processing Record 38 of Set 24 | asosa\n",
      "Processing Record 39 of Set 24 | pozoblanco\n",
      "Processing Record 40 of Set 24 | college\n",
      "Processing Record 41 of Set 24 | anchorage\n",
      "Processing Record 42 of Set 24 | balugaon\n",
      "Processing Record 43 of Set 24 | raduzhnyy\n",
      "Processing Record 44 of Set 24 | kongolo\n",
      "Processing Record 45 of Set 24 | marsh harbour\n",
      "Processing Record 46 of Set 24 | flin flon\n",
      "Processing Record 47 of Set 24 | berlevag\n",
      "Processing Record 48 of Set 24 | faanui\n",
      "Processing Record 49 of Set 24 | bowen\n",
      "Processing Record 50 of Set 24 | lowestoft\n",
      "Processing Record 1 of Set 25 | sola\n",
      "Processing Record 2 of Set 25 | iwanai\n",
      "Processing Record 3 of Set 25 | kauhajoki\n",
      "Processing Record 4 of Set 25 | tukrah\n",
      "-----------------------------\n",
      "Data Retrieval Complete      \n",
      "-----------------------------\n"
     ]
    }
   ],
   "source": [
    "for i, city in enumerate(cities):\n",
    "\n",
    "    # Group cities in sets of 50 for logging purposes.\n",
    "    if (i % 50 == 0 and i >= 50):\n",
    "        set_count += 1\n",
    "        record_count = 1\n",
    "    # Create endpoint URL with each city.\n",
    "    city_url = url + \"&q=\" + city # >> This will find the corresponding weather data for the city instead of \n",
    "    #finding the weather data for the first part of the city name.\n",
    "    \n",
    "\n",
    "    # Log the URL, record, and set numbers and the city.\n",
    "    print(f\"Processing Record {record_count} of Set {set_count} | {city}\")\n",
    "    # Add 1 to the record count.\n",
    "    record_count += 1\n",
    "    # Run an API request for each of the cities.\n",
    "    try:\n",
    "        # Parse the JSON and retrieve data.\n",
    "        city_weather = requests.get(city_url).json()\n",
    "        # Parse out the needed data.\n",
    "        city_lat = city_weather[\"coord\"][\"lat\"]\n",
    "        city_lng = city_weather[\"coord\"][\"lon\"]\n",
    "        city_max_temp = city_weather[\"main\"][\"temp_max\"]\n",
    "        city_humidity = city_weather[\"main\"][\"humidity\"]\n",
    "        city_clouds = city_weather[\"clouds\"][\"all\"]\n",
    "        city_wind = city_weather[\"wind\"][\"speed\"]\n",
    "        city_country = city_weather[\"sys\"][\"country\"]\n",
    "        # Convert the date to ISO standard.\n",
    "        city_date = datetime.utcfromtimestamp(city_weather[\"dt\"]).strftime(\"%Y-%m-%d %H:%M:%S\")\n",
    "        # Append the city information into city_data list.\n",
    "        city_data.append({\"City\": city.title(),\n",
    "                          \"Lat\": city_lat,\n",
    "                          \"Lng\": city_lng,\n",
    "                          \"Max Temp\": city_max_temp,\n",
    "                          \"Humidity\": city_humidity,\n",
    "                          \"Cloudiness\": city_clouds,\n",
    "                          \"Wind Speed\": city_wind,\n",
    "                          \"Country\": city_country,\n",
    "                          \"Date\": city_date})\n",
    "\n",
    "    # If an error is experienced, skip the city.\n",
    "    except:\n",
    "        print(\"City not found. Skipping...\")\n",
    "        pass\n",
    "\n",
    "# Indicate that Data Loading is complete.\n",
    "print(\"-----------------------------\")\n",
    "print(\"Data Retrieval Complete      \")\n",
    "print(\"-----------------------------\")\n",
    "\n"
   ]
  },
  {
   "cell_type": "code",
   "execution_count": 176,
   "metadata": {},
   "outputs": [
    {
     "data": {
      "text/plain": [
       "563"
      ]
     },
     "execution_count": 176,
     "metadata": {},
     "output_type": "execute_result"
    }
   ],
   "source": [
    "len(city_data)"
   ]
  },
  {
   "cell_type": "code",
   "execution_count": 177,
   "metadata": {},
   "outputs": [],
   "source": [
    "# 6.2.7 ...Create a DataFrame of City Weather Data."
   ]
  },
  {
   "cell_type": "code",
   "execution_count": 178,
   "metadata": {},
   "outputs": [
    {
     "data": {
      "text/html": [
       "<div>\n",
       "<style scoped>\n",
       "    .dataframe tbody tr th:only-of-type {\n",
       "        vertical-align: middle;\n",
       "    }\n",
       "\n",
       "    .dataframe tbody tr th {\n",
       "        vertical-align: top;\n",
       "    }\n",
       "\n",
       "    .dataframe thead th {\n",
       "        text-align: right;\n",
       "    }\n",
       "</style>\n",
       "<table border=\"1\" class=\"dataframe\">\n",
       "  <thead>\n",
       "    <tr style=\"text-align: right;\">\n",
       "      <th></th>\n",
       "      <th>City</th>\n",
       "      <th>Lat</th>\n",
       "      <th>Lng</th>\n",
       "      <th>Max Temp</th>\n",
       "      <th>Humidity</th>\n",
       "      <th>Cloudiness</th>\n",
       "      <th>Wind Speed</th>\n",
       "      <th>Country</th>\n",
       "      <th>Date</th>\n",
       "    </tr>\n",
       "  </thead>\n",
       "  <tbody>\n",
       "    <tr>\n",
       "      <th>0</th>\n",
       "      <td>Tocopilla</td>\n",
       "      <td>-22.09</td>\n",
       "      <td>-70.20</td>\n",
       "      <td>67.78</td>\n",
       "      <td>49</td>\n",
       "      <td>20</td>\n",
       "      <td>7.14</td>\n",
       "      <td>CL</td>\n",
       "      <td>2020-10-31 20:46:02</td>\n",
       "    </tr>\n",
       "    <tr>\n",
       "      <th>1</th>\n",
       "      <td>Nabire</td>\n",
       "      <td>-3.37</td>\n",
       "      <td>135.48</td>\n",
       "      <td>76.26</td>\n",
       "      <td>88</td>\n",
       "      <td>97</td>\n",
       "      <td>2.84</td>\n",
       "      <td>ID</td>\n",
       "      <td>2020-10-31 20:46:02</td>\n",
       "    </tr>\n",
       "    <tr>\n",
       "      <th>2</th>\n",
       "      <td>Barrow</td>\n",
       "      <td>71.29</td>\n",
       "      <td>-156.79</td>\n",
       "      <td>24.80</td>\n",
       "      <td>68</td>\n",
       "      <td>75</td>\n",
       "      <td>10.29</td>\n",
       "      <td>US</td>\n",
       "      <td>2020-10-31 20:46:02</td>\n",
       "    </tr>\n",
       "    <tr>\n",
       "      <th>3</th>\n",
       "      <td>Cidreira</td>\n",
       "      <td>-30.18</td>\n",
       "      <td>-50.21</td>\n",
       "      <td>65.10</td>\n",
       "      <td>68</td>\n",
       "      <td>60</td>\n",
       "      <td>9.71</td>\n",
       "      <td>BR</td>\n",
       "      <td>2020-10-31 20:46:02</td>\n",
       "    </tr>\n",
       "    <tr>\n",
       "      <th>4</th>\n",
       "      <td>Vaini</td>\n",
       "      <td>-21.20</td>\n",
       "      <td>-175.20</td>\n",
       "      <td>75.20</td>\n",
       "      <td>83</td>\n",
       "      <td>75</td>\n",
       "      <td>11.41</td>\n",
       "      <td>TO</td>\n",
       "      <td>2020-10-31 20:46:02</td>\n",
       "    </tr>\n",
       "    <tr>\n",
       "      <th>5</th>\n",
       "      <td>Cockburn Town</td>\n",
       "      <td>21.46</td>\n",
       "      <td>-71.14</td>\n",
       "      <td>86.00</td>\n",
       "      <td>66</td>\n",
       "      <td>40</td>\n",
       "      <td>11.41</td>\n",
       "      <td>TC</td>\n",
       "      <td>2020-10-31 20:46:02</td>\n",
       "    </tr>\n",
       "    <tr>\n",
       "      <th>6</th>\n",
       "      <td>Hilo</td>\n",
       "      <td>19.73</td>\n",
       "      <td>-155.09</td>\n",
       "      <td>86.00</td>\n",
       "      <td>58</td>\n",
       "      <td>40</td>\n",
       "      <td>9.17</td>\n",
       "      <td>US</td>\n",
       "      <td>2020-10-31 20:43:13</td>\n",
       "    </tr>\n",
       "    <tr>\n",
       "      <th>7</th>\n",
       "      <td>Valparaiso</td>\n",
       "      <td>-33.04</td>\n",
       "      <td>-71.63</td>\n",
       "      <td>59.00</td>\n",
       "      <td>100</td>\n",
       "      <td>90</td>\n",
       "      <td>4.70</td>\n",
       "      <td>CL</td>\n",
       "      <td>2020-10-31 20:46:02</td>\n",
       "    </tr>\n",
       "    <tr>\n",
       "      <th>8</th>\n",
       "      <td>Hasaki</td>\n",
       "      <td>35.73</td>\n",
       "      <td>140.83</td>\n",
       "      <td>42.80</td>\n",
       "      <td>93</td>\n",
       "      <td>40</td>\n",
       "      <td>2.24</td>\n",
       "      <td>JP</td>\n",
       "      <td>2020-10-31 20:46:02</td>\n",
       "    </tr>\n",
       "    <tr>\n",
       "      <th>9</th>\n",
       "      <td>Rikitea</td>\n",
       "      <td>-23.12</td>\n",
       "      <td>-134.97</td>\n",
       "      <td>75.47</td>\n",
       "      <td>68</td>\n",
       "      <td>0</td>\n",
       "      <td>6.04</td>\n",
       "      <td>PF</td>\n",
       "      <td>2020-10-31 20:46:02</td>\n",
       "    </tr>\n",
       "  </tbody>\n",
       "</table>\n",
       "</div>"
      ],
      "text/plain": [
       "            City    Lat     Lng  Max Temp  Humidity  Cloudiness  Wind Speed  \\\n",
       "0      Tocopilla -22.09  -70.20     67.78        49          20        7.14   \n",
       "1         Nabire  -3.37  135.48     76.26        88          97        2.84   \n",
       "2         Barrow  71.29 -156.79     24.80        68          75       10.29   \n",
       "3       Cidreira -30.18  -50.21     65.10        68          60        9.71   \n",
       "4          Vaini -21.20 -175.20     75.20        83          75       11.41   \n",
       "5  Cockburn Town  21.46  -71.14     86.00        66          40       11.41   \n",
       "6           Hilo  19.73 -155.09     86.00        58          40        9.17   \n",
       "7     Valparaiso -33.04  -71.63     59.00       100          90        4.70   \n",
       "8         Hasaki  35.73  140.83     42.80        93          40        2.24   \n",
       "9        Rikitea -23.12 -134.97     75.47        68           0        6.04   \n",
       "\n",
       "  Country                 Date  \n",
       "0      CL  2020-10-31 20:46:02  \n",
       "1      ID  2020-10-31 20:46:02  \n",
       "2      US  2020-10-31 20:46:02  \n",
       "3      BR  2020-10-31 20:46:02  \n",
       "4      TO  2020-10-31 20:46:02  \n",
       "5      TC  2020-10-31 20:46:02  \n",
       "6      US  2020-10-31 20:43:13  \n",
       "7      CL  2020-10-31 20:46:02  \n",
       "8      JP  2020-10-31 20:46:02  \n",
       "9      PF  2020-10-31 20:46:02  "
      ]
     },
     "execution_count": 178,
     "metadata": {},
     "output_type": "execute_result"
    }
   ],
   "source": [
    "# Convert the array of dictionaries to a Pandas DataFrame.\n",
    "city_data_df = pd.DataFrame(city_data)\n",
    "city_data_df.head(10)"
   ]
  },
  {
   "cell_type": "code",
   "execution_count": 179,
   "metadata": {},
   "outputs": [],
   "source": [
    "new_column_order = [\"City\", \"Country\", \"Date\", \"Lat\", \"Lng\", \"Max Temp\", \"Humidity\", \"Cloudiness\", \"Wind Speed\"]\n"
   ]
  },
  {
   "cell_type": "code",
   "execution_count": 180,
   "metadata": {},
   "outputs": [
    {
     "data": {
      "text/html": [
       "<div>\n",
       "<style scoped>\n",
       "    .dataframe tbody tr th:only-of-type {\n",
       "        vertical-align: middle;\n",
       "    }\n",
       "\n",
       "    .dataframe tbody tr th {\n",
       "        vertical-align: top;\n",
       "    }\n",
       "\n",
       "    .dataframe thead th {\n",
       "        text-align: right;\n",
       "    }\n",
       "</style>\n",
       "<table border=\"1\" class=\"dataframe\">\n",
       "  <thead>\n",
       "    <tr style=\"text-align: right;\">\n",
       "      <th></th>\n",
       "      <th>City</th>\n",
       "      <th>Country</th>\n",
       "      <th>Date</th>\n",
       "      <th>Lat</th>\n",
       "      <th>Lng</th>\n",
       "      <th>Max Temp</th>\n",
       "      <th>Humidity</th>\n",
       "      <th>Cloudiness</th>\n",
       "      <th>Wind Speed</th>\n",
       "    </tr>\n",
       "  </thead>\n",
       "  <tbody>\n",
       "    <tr>\n",
       "      <th>0</th>\n",
       "      <td>Tocopilla</td>\n",
       "      <td>CL</td>\n",
       "      <td>2020-10-31 20:46:02</td>\n",
       "      <td>-22.09</td>\n",
       "      <td>-70.20</td>\n",
       "      <td>67.78</td>\n",
       "      <td>49</td>\n",
       "      <td>20</td>\n",
       "      <td>7.14</td>\n",
       "    </tr>\n",
       "    <tr>\n",
       "      <th>1</th>\n",
       "      <td>Nabire</td>\n",
       "      <td>ID</td>\n",
       "      <td>2020-10-31 20:46:02</td>\n",
       "      <td>-3.37</td>\n",
       "      <td>135.48</td>\n",
       "      <td>76.26</td>\n",
       "      <td>88</td>\n",
       "      <td>97</td>\n",
       "      <td>2.84</td>\n",
       "    </tr>\n",
       "    <tr>\n",
       "      <th>2</th>\n",
       "      <td>Barrow</td>\n",
       "      <td>US</td>\n",
       "      <td>2020-10-31 20:46:02</td>\n",
       "      <td>71.29</td>\n",
       "      <td>-156.79</td>\n",
       "      <td>24.80</td>\n",
       "      <td>68</td>\n",
       "      <td>75</td>\n",
       "      <td>10.29</td>\n",
       "    </tr>\n",
       "    <tr>\n",
       "      <th>3</th>\n",
       "      <td>Cidreira</td>\n",
       "      <td>BR</td>\n",
       "      <td>2020-10-31 20:46:02</td>\n",
       "      <td>-30.18</td>\n",
       "      <td>-50.21</td>\n",
       "      <td>65.10</td>\n",
       "      <td>68</td>\n",
       "      <td>60</td>\n",
       "      <td>9.71</td>\n",
       "    </tr>\n",
       "    <tr>\n",
       "      <th>4</th>\n",
       "      <td>Vaini</td>\n",
       "      <td>TO</td>\n",
       "      <td>2020-10-31 20:46:02</td>\n",
       "      <td>-21.20</td>\n",
       "      <td>-175.20</td>\n",
       "      <td>75.20</td>\n",
       "      <td>83</td>\n",
       "      <td>75</td>\n",
       "      <td>11.41</td>\n",
       "    </tr>\n",
       "    <tr>\n",
       "      <th>...</th>\n",
       "      <td>...</td>\n",
       "      <td>...</td>\n",
       "      <td>...</td>\n",
       "      <td>...</td>\n",
       "      <td>...</td>\n",
       "      <td>...</td>\n",
       "      <td>...</td>\n",
       "      <td>...</td>\n",
       "      <td>...</td>\n",
       "    </tr>\n",
       "    <tr>\n",
       "      <th>558</th>\n",
       "      <td>Lowestoft</td>\n",
       "      <td>GB</td>\n",
       "      <td>2020-10-31 20:47:06</td>\n",
       "      <td>52.48</td>\n",
       "      <td>1.75</td>\n",
       "      <td>50.00</td>\n",
       "      <td>99</td>\n",
       "      <td>49</td>\n",
       "      <td>3.00</td>\n",
       "    </tr>\n",
       "    <tr>\n",
       "      <th>559</th>\n",
       "      <td>Sola</td>\n",
       "      <td>VU</td>\n",
       "      <td>2020-10-31 20:47:06</td>\n",
       "      <td>-13.88</td>\n",
       "      <td>167.55</td>\n",
       "      <td>81.45</td>\n",
       "      <td>80</td>\n",
       "      <td>52</td>\n",
       "      <td>20.11</td>\n",
       "    </tr>\n",
       "    <tr>\n",
       "      <th>560</th>\n",
       "      <td>Iwanai</td>\n",
       "      <td>JP</td>\n",
       "      <td>2020-10-31 20:47:06</td>\n",
       "      <td>42.97</td>\n",
       "      <td>140.51</td>\n",
       "      <td>45.19</td>\n",
       "      <td>84</td>\n",
       "      <td>100</td>\n",
       "      <td>6.24</td>\n",
       "    </tr>\n",
       "    <tr>\n",
       "      <th>561</th>\n",
       "      <td>Kauhajoki</td>\n",
       "      <td>FI</td>\n",
       "      <td>2020-10-31 20:47:06</td>\n",
       "      <td>62.43</td>\n",
       "      <td>22.18</td>\n",
       "      <td>45.00</td>\n",
       "      <td>100</td>\n",
       "      <td>90</td>\n",
       "      <td>8.05</td>\n",
       "    </tr>\n",
       "    <tr>\n",
       "      <th>562</th>\n",
       "      <td>Tukrah</td>\n",
       "      <td>LY</td>\n",
       "      <td>2020-10-31 20:47:07</td>\n",
       "      <td>32.53</td>\n",
       "      <td>20.58</td>\n",
       "      <td>69.53</td>\n",
       "      <td>70</td>\n",
       "      <td>71</td>\n",
       "      <td>10.40</td>\n",
       "    </tr>\n",
       "  </tbody>\n",
       "</table>\n",
       "<p>563 rows × 9 columns</p>\n",
       "</div>"
      ],
      "text/plain": [
       "          City Country                 Date    Lat     Lng  Max Temp  \\\n",
       "0    Tocopilla      CL  2020-10-31 20:46:02 -22.09  -70.20     67.78   \n",
       "1       Nabire      ID  2020-10-31 20:46:02  -3.37  135.48     76.26   \n",
       "2       Barrow      US  2020-10-31 20:46:02  71.29 -156.79     24.80   \n",
       "3     Cidreira      BR  2020-10-31 20:46:02 -30.18  -50.21     65.10   \n",
       "4        Vaini      TO  2020-10-31 20:46:02 -21.20 -175.20     75.20   \n",
       "..         ...     ...                  ...    ...     ...       ...   \n",
       "558  Lowestoft      GB  2020-10-31 20:47:06  52.48    1.75     50.00   \n",
       "559       Sola      VU  2020-10-31 20:47:06 -13.88  167.55     81.45   \n",
       "560     Iwanai      JP  2020-10-31 20:47:06  42.97  140.51     45.19   \n",
       "561  Kauhajoki      FI  2020-10-31 20:47:06  62.43   22.18     45.00   \n",
       "562     Tukrah      LY  2020-10-31 20:47:07  32.53   20.58     69.53   \n",
       "\n",
       "     Humidity  Cloudiness  Wind Speed  \n",
       "0          49          20        7.14  \n",
       "1          88          97        2.84  \n",
       "2          68          75       10.29  \n",
       "3          68          60        9.71  \n",
       "4          83          75       11.41  \n",
       "..        ...         ...         ...  \n",
       "558        99          49        3.00  \n",
       "559        80          52       20.11  \n",
       "560        84         100        6.24  \n",
       "561       100          90        8.05  \n",
       "562        70          71       10.40  \n",
       "\n",
       "[563 rows x 9 columns]"
      ]
     },
     "execution_count": 180,
     "metadata": {},
     "output_type": "execute_result"
    }
   ],
   "source": [
    "# Re order the Columns.\n",
    "city_data_df = city_data_df[new_column_order]\n",
    "city_data_df"
   ]
  },
  {
   "cell_type": "code",
   "execution_count": 181,
   "metadata": {},
   "outputs": [],
   "source": [
    "# Save the Csv file .(I checked the file and the column are still not inorder ?) \n",
    "# Create the output file (CSV).\n",
    "output_data_file = \"Resources/cities.csv\"# i changed the file to resources because after i made ignore for ( wether database, config) i have been having problems .\n",
    "# Export the City_Data into a CSV.\n",
    "city_data_df.to_csv(output_data_file, index_label=\"City_ID\")"
   ]
  },
  {
   "cell_type": "code",
   "execution_count": 182,
   "metadata": {},
   "outputs": [],
   "source": [
    "# 6.3.1  Plot Latitude vs Temperature\n",
    "# Get Data for Plotting"
   ]
  },
  {
   "cell_type": "code",
   "execution_count": 183,
   "metadata": {},
   "outputs": [],
   "source": [
    "# Extract relevant fields from the DataFrame for plotting.\n",
    "lats = city_data_df[\"Lat\"]\n",
    "max_temps = city_data_df[\"Max Temp\"]\n",
    "humidity = city_data_df[\"Humidity\"]\n",
    "cloudiness = city_data_df[\"Cloudiness\"]\n",
    "wind_speed = city_data_df[\"Wind Speed\"]"
   ]
  },
  {
   "cell_type": "code",
   "execution_count": 184,
   "metadata": {},
   "outputs": [
    {
     "data": {
      "text/plain": [
       "'10/31/20'"
      ]
     },
     "execution_count": 184,
     "metadata": {},
     "output_type": "execute_result"
    }
   ],
   "source": [
    "# Import the time module.\n",
    "import time\n",
    "# Get today's date in seconds.\n",
    "today = time.strftime(\"%x\")\n",
    "today"
   ]
  },
  {
   "cell_type": "code",
   "execution_count": 185,
   "metadata": {},
   "outputs": [
    {
     "data": {
      "image/png": "[encoded data removed]",
      "text/plain": [
       "<Figure size 432x288 with 1 Axes>"
      ]
     },
     "metadata": {
      "needs_background": "light"
     },
     "output_type": "display_data"
    }
   ],
   "source": [
    "#  To add the current date, we will need to import the time module.\n",
    "# Build the scatter plot for latitude vs. max temperature.\n",
    "plt.scatter(lats,\n",
    "            max_temps,\n",
    "            edgecolor=\"black\", linewidths=1, marker=\"o\",\n",
    "            alpha=0.8, label=\"Cities\")\n",
    "\n",
    "# Incorporate the other graph properties.\n",
    "plt.title(f\"City Latitude vs. Max Temperature \"+ time.strftime(\"%x\"))\n",
    "plt.ylabel(\"Max Temperature (F)\")\n",
    "plt.xlabel(\"Latitude\")\n",
    "plt.grid(True)\n",
    "\n",
    "# Save the figure.\n",
    "plt.savefig(\"weather_data/Fig1.png\")\n",
    "\n",
    "# Show plot.\n",
    "plt.show()"
   ]
  },
  {
   "cell_type": "code",
   "execution_count": 186,
   "metadata": {},
   "outputs": [],
   "source": [
    " # 6.3.2 .. Plot Latitude vs. Humidity\n"
   ]
  },
  {
   "cell_type": "code",
   "execution_count": 187,
   "metadata": {},
   "outputs": [
    {
     "data": {
      "image/png": "[encoded data removed]",
      "text/plain": [
       "<Figure size 432x288 with 1 Axes>"
      ]
     },
     "metadata": {
      "needs_background": "light"
     },
     "output_type": "display_data"
    }
   ],
   "source": [
    "# Build the scatter plots for latitude vs. humidity.\n",
    "plt.scatter(lats,\n",
    "            humidity,\n",
    "            edgecolor=\"black\", linewidths=1, marker=\"o\",\n",
    "            alpha=0.8, label=\"Cities\")\n",
    "\n",
    "# Incorporate the other graph properties.\n",
    "plt.title(f\"City Latitude vs. Humidity \"+ time.strftime(\"%x\"))\n",
    "plt.ylabel(\"Humidity (%)\")\n",
    "plt.xlabel(\"Latitude\")\n",
    "plt.grid(True)\n",
    "# Save the figure.\n",
    "plt.savefig(\"weather_data/Fig2.png\")\n",
    "# Show plot.\n",
    "plt.show()\n"
   ]
  },
  {
   "cell_type": "code",
   "execution_count": 188,
   "metadata": {},
   "outputs": [],
   "source": [
    "# 6.3.3 .. Plot Latitude vs. Cloudiness\n"
   ]
  },
  {
   "cell_type": "code",
   "execution_count": 189,
   "metadata": {},
   "outputs": [
    {
     "data": {
      "image/png": "[encoded data removed]",
      "text/plain": [
       "<Figure size 432x288 with 1 Axes>"
      ]
     },
     "metadata": {
      "needs_background": "light"
     },
     "output_type": "display_data"
    }
   ],
   "source": [
    "# Build the scatter plots for latitude vs. cloudiness.\n",
    "plt.scatter(lats,\n",
    "            cloudiness,\n",
    "            edgecolor=\"black\", linewidths=1, marker=\"o\",\n",
    "            alpha=0.8, label=\"Cities\")\n",
    "\n",
    "# Incorporate the other graph properties.\n",
    "plt.title(f\"City Latitude vs. Cloudiness (%) \"+ time.strftime(\"%x\"))\n",
    "plt.ylabel(\"Cloudiness (%)\")\n",
    "plt.xlabel(\"Latitude\")\n",
    "plt.grid(True)\n",
    "# Save the figure.\n",
    "plt.savefig(\"weather_data/Fig3.png\")\n",
    "# Show plot.\n",
    "plt.show()"
   ]
  },
  {
   "cell_type": "code",
   "execution_count": 190,
   "metadata": {},
   "outputs": [],
   "source": [
    "# 6.3.4...Plot Latitude vs. Wind Speed\n"
   ]
  },
  {
   "cell_type": "code",
   "execution_count": 191,
   "metadata": {},
   "outputs": [
    {
     "data": {
      "image/png": "[encoded data removed]",
      "text/plain": [
       "<Figure size 432x288 with 1 Axes>"
      ]
     },
     "metadata": {
      "needs_background": "light"
     },
     "output_type": "display_data"
    }
   ],
   "source": [
    "# Build the scatter plots for latitude vs. wind speed.\n",
    "plt.scatter(lats,\n",
    "            wind_speed,\n",
    "            edgecolor=\"black\", linewidths=1, marker=\"o\",\n",
    "            alpha=0.8, label=\"Cities\")\n",
    "\n",
    "# Incorporate the other graph properties.\n",
    "plt.title(f\"City Latitude vs. Wind Speed \"+ time.strftime(\"%x\"))\n",
    "plt.ylabel(\"Wind Speed (mph)\")\n",
    "plt.xlabel(\"Latitude\")\n",
    "plt.grid(True)\n",
    "# Save the figure.\n",
    "plt.savefig(\"weather_data/Fig4.png\")\n",
    "# Show plot.\n",
    "plt.show()"
   ]
  },
  {
   "cell_type": "code",
   "execution_count": 192,
   "metadata": {},
   "outputs": [],
   "source": [
    "# 6.4.1 ....Use Linear Regression to Find the Relationship Between Variables.\n",
    "## Independent variable: the variable changed by the analyst to observe how it affects the dependent variable . \n",
    "\n",
    "## Dependent variable: the variable tested by the analyst to observe how it is affected by the independent variable."
   ]
  },
  {
   "cell_type": "code",
   "execution_count": 193,
   "metadata": {},
   "outputs": [],
   "source": [
    "# 6.4.2...Find the Correlation Between Latitude and Maximum Temperature.\n",
    "# Create a Linear Regression Function."
   ]
  },
  {
   "cell_type": "code",
   "execution_count": 194,
   "metadata": {},
   "outputs": [],
   "source": [
    "# Create a function to create perform linear regression on the weather data\n",
    "# and plot a regression line and the equation with the data.\n",
    "def plot_linear_regression(x_values, y_values, title, y_label, text_coordinates):\n",
    "    \n",
    "        # Run regression on hemisphere weather data.\n",
    "    (slope, intercept, r_value, p_value, std_err) = linregress(x_values, y_values)\n",
    "\n",
    "    # Calculate the regression line \"y values\" from the slope and intercept.\n",
    "    regress_values = x_values * slope + intercept\n",
    "    # Get the equation of the line.\n",
    "    line_eq = \"y = \" + str(round(slope,2)) + \"x + \" + str(round(intercept,2))\n",
    "    # Create a scatter plot and plot the regression line.\n",
    "    plt.scatter(x_values,y_values)\n",
    "    plt.plot(x_values,regress_values,\"r\")\n",
    "    # Annotate the text for the line equation.\n",
    "    plt.annotate(line_eq, text_coordinates, fontsize=15, color=\"red\")\n",
    "    plt.xlabel('Latitude')\n",
    "    plt.ylabel(y_label)\n",
    "    plt.show()"
   ]
  },
  {
   "cell_type": "code",
   "execution_count": 195,
   "metadata": {},
   "outputs": [
    {
     "data": {
      "text/plain": [
       "City                     Klaksvik\n",
       "Country                        FO\n",
       "Date          2020-10-31 20:42:28\n",
       "Lat                         62.23\n",
       "Lng                         -6.59\n",
       "Max Temp                     48.2\n",
       "Humidity                      100\n",
       "Cloudiness                     90\n",
       "Wind Speed                   8.05\n",
       "Name: 13, dtype: object"
      ]
     },
     "execution_count": 195,
     "metadata": {},
     "output_type": "execute_result"
    }
   ],
   "source": [
    "index13 = city_data_df.loc[13]\n",
    "index13"
   ]
  },
  {
   "cell_type": "code",
   "execution_count": 196,
   "metadata": {},
   "outputs": [
    {
     "data": {
      "text/plain": [
       "0      False\n",
       "1      False\n",
       "2       True\n",
       "3      False\n",
       "4      False\n",
       "       ...  \n",
       "558     True\n",
       "559    False\n",
       "560     True\n",
       "561     True\n",
       "562     True\n",
       "Name: Lat, Length: 563, dtype: bool"
      ]
     },
     "execution_count": 196,
     "metadata": {},
     "output_type": "execute_result"
    }
   ],
   "source": [
    "city_data_df[\"Lat\"] >= 0"
   ]
  },
  {
   "cell_type": "code",
   "execution_count": 197,
   "metadata": {},
   "outputs": [
    {
     "data": {
      "text/html": [
       "<div>\n",
       "<style scoped>\n",
       "    .dataframe tbody tr th:only-of-type {\n",
       "        vertical-align: middle;\n",
       "    }\n",
       "\n",
       "    .dataframe tbody tr th {\n",
       "        vertical-align: top;\n",
       "    }\n",
       "\n",
       "    .dataframe thead th {\n",
       "        text-align: right;\n",
       "    }\n",
       "</style>\n",
       "<table border=\"1\" class=\"dataframe\">\n",
       "  <thead>\n",
       "    <tr style=\"text-align: right;\">\n",
       "      <th></th>\n",
       "      <th>City</th>\n",
       "      <th>Country</th>\n",
       "      <th>Date</th>\n",
       "      <th>Lat</th>\n",
       "      <th>Lng</th>\n",
       "      <th>Max Temp</th>\n",
       "      <th>Humidity</th>\n",
       "      <th>Cloudiness</th>\n",
       "      <th>Wind Speed</th>\n",
       "    </tr>\n",
       "  </thead>\n",
       "  <tbody>\n",
       "    <tr>\n",
       "      <th>2</th>\n",
       "      <td>Barrow</td>\n",
       "      <td>US</td>\n",
       "      <td>2020-10-31 20:46:02</td>\n",
       "      <td>71.29</td>\n",
       "      <td>-156.79</td>\n",
       "      <td>24.80</td>\n",
       "      <td>68</td>\n",
       "      <td>75</td>\n",
       "      <td>10.29</td>\n",
       "    </tr>\n",
       "    <tr>\n",
       "      <th>5</th>\n",
       "      <td>Cockburn Town</td>\n",
       "      <td>TC</td>\n",
       "      <td>2020-10-31 20:46:02</td>\n",
       "      <td>21.46</td>\n",
       "      <td>-71.14</td>\n",
       "      <td>86.00</td>\n",
       "      <td>66</td>\n",
       "      <td>40</td>\n",
       "      <td>11.41</td>\n",
       "    </tr>\n",
       "    <tr>\n",
       "      <th>6</th>\n",
       "      <td>Hilo</td>\n",
       "      <td>US</td>\n",
       "      <td>2020-10-31 20:43:13</td>\n",
       "      <td>19.73</td>\n",
       "      <td>-155.09</td>\n",
       "      <td>86.00</td>\n",
       "      <td>58</td>\n",
       "      <td>40</td>\n",
       "      <td>9.17</td>\n",
       "    </tr>\n",
       "    <tr>\n",
       "      <th>8</th>\n",
       "      <td>Hasaki</td>\n",
       "      <td>JP</td>\n",
       "      <td>2020-10-31 20:46:02</td>\n",
       "      <td>35.73</td>\n",
       "      <td>140.83</td>\n",
       "      <td>42.80</td>\n",
       "      <td>93</td>\n",
       "      <td>40</td>\n",
       "      <td>2.24</td>\n",
       "    </tr>\n",
       "    <tr>\n",
       "      <th>13</th>\n",
       "      <td>Klaksvik</td>\n",
       "      <td>FO</td>\n",
       "      <td>2020-10-31 20:42:28</td>\n",
       "      <td>62.23</td>\n",
       "      <td>-6.59</td>\n",
       "      <td>48.20</td>\n",
       "      <td>100</td>\n",
       "      <td>90</td>\n",
       "      <td>8.05</td>\n",
       "    </tr>\n",
       "    <tr>\n",
       "      <th>...</th>\n",
       "      <td>...</td>\n",
       "      <td>...</td>\n",
       "      <td>...</td>\n",
       "      <td>...</td>\n",
       "      <td>...</td>\n",
       "      <td>...</td>\n",
       "      <td>...</td>\n",
       "      <td>...</td>\n",
       "      <td>...</td>\n",
       "    </tr>\n",
       "    <tr>\n",
       "      <th>555</th>\n",
       "      <td>Berlevag</td>\n",
       "      <td>NO</td>\n",
       "      <td>2020-10-31 20:47:06</td>\n",
       "      <td>70.86</td>\n",
       "      <td>29.09</td>\n",
       "      <td>35.94</td>\n",
       "      <td>89</td>\n",
       "      <td>100</td>\n",
       "      <td>13.67</td>\n",
       "    </tr>\n",
       "    <tr>\n",
       "      <th>558</th>\n",
       "      <td>Lowestoft</td>\n",
       "      <td>GB</td>\n",
       "      <td>2020-10-31 20:47:06</td>\n",
       "      <td>52.48</td>\n",
       "      <td>1.75</td>\n",
       "      <td>50.00</td>\n",
       "      <td>99</td>\n",
       "      <td>49</td>\n",
       "      <td>3.00</td>\n",
       "    </tr>\n",
       "    <tr>\n",
       "      <th>560</th>\n",
       "      <td>Iwanai</td>\n",
       "      <td>JP</td>\n",
       "      <td>2020-10-31 20:47:06</td>\n",
       "      <td>42.97</td>\n",
       "      <td>140.51</td>\n",
       "      <td>45.19</td>\n",
       "      <td>84</td>\n",
       "      <td>100</td>\n",
       "      <td>6.24</td>\n",
       "    </tr>\n",
       "    <tr>\n",
       "      <th>561</th>\n",
       "      <td>Kauhajoki</td>\n",
       "      <td>FI</td>\n",
       "      <td>2020-10-31 20:47:06</td>\n",
       "      <td>62.43</td>\n",
       "      <td>22.18</td>\n",
       "      <td>45.00</td>\n",
       "      <td>100</td>\n",
       "      <td>90</td>\n",
       "      <td>8.05</td>\n",
       "    </tr>\n",
       "    <tr>\n",
       "      <th>562</th>\n",
       "      <td>Tukrah</td>\n",
       "      <td>LY</td>\n",
       "      <td>2020-10-31 20:47:07</td>\n",
       "      <td>32.53</td>\n",
       "      <td>20.58</td>\n",
       "      <td>69.53</td>\n",
       "      <td>70</td>\n",
       "      <td>71</td>\n",
       "      <td>10.40</td>\n",
       "    </tr>\n",
       "  </tbody>\n",
       "</table>\n",
       "<p>387 rows × 9 columns</p>\n",
       "</div>"
      ],
      "text/plain": [
       "              City Country                 Date    Lat     Lng  Max Temp  \\\n",
       "2           Barrow      US  2020-10-31 20:46:02  71.29 -156.79     24.80   \n",
       "5    Cockburn Town      TC  2020-10-31 20:46:02  21.46  -71.14     86.00   \n",
       "6             Hilo      US  2020-10-31 20:43:13  19.73 -155.09     86.00   \n",
       "8           Hasaki      JP  2020-10-31 20:46:02  35.73  140.83     42.80   \n",
       "13        Klaksvik      FO  2020-10-31 20:42:28  62.23   -6.59     48.20   \n",
       "..             ...     ...                  ...    ...     ...       ...   \n",
       "555       Berlevag      NO  2020-10-31 20:47:06  70.86   29.09     35.94   \n",
       "558      Lowestoft      GB  2020-10-31 20:47:06  52.48    1.75     50.00   \n",
       "560         Iwanai      JP  2020-10-31 20:47:06  42.97  140.51     45.19   \n",
       "561      Kauhajoki      FI  2020-10-31 20:47:06  62.43   22.18     45.00   \n",
       "562         Tukrah      LY  2020-10-31 20:47:07  32.53   20.58     69.53   \n",
       "\n",
       "     Humidity  Cloudiness  Wind Speed  \n",
       "2          68          75       10.29  \n",
       "5          66          40       11.41  \n",
       "6          58          40        9.17  \n",
       "8          93          40        2.24  \n",
       "13        100          90        8.05  \n",
       "..        ...         ...         ...  \n",
       "555        89         100       13.67  \n",
       "558        99          49        3.00  \n",
       "560        84         100        6.24  \n",
       "561       100          90        8.05  \n",
       "562        70          71       10.40  \n",
       "\n",
       "[387 rows x 9 columns]"
      ]
     },
     "execution_count": 197,
     "metadata": {},
     "output_type": "execute_result"
    }
   ],
   "source": [
    "city_data_df.loc[(city_data_df[\"Lat\"] >= 0)]"
   ]
  },
  {
   "cell_type": "code",
   "execution_count": 198,
   "metadata": {},
   "outputs": [],
   "source": [
    "# Perform Linear Regression on the Maximum \n",
    "# Temperature for the Northern Hemisphere.\n"
   ]
  },
  {
   "cell_type": "code",
   "execution_count": 199,
   "metadata": {},
   "outputs": [],
   "source": [
    "# Import linear regression from the SciPy stats module.\n",
    "from scipy.stats import linregress"
   ]
  },
  {
   "cell_type": "code",
   "execution_count": 200,
   "metadata": {},
   "outputs": [],
   "source": [
    "# Create Northern and Southern Hemisphere DataFrames.\n",
    "northern_hemi_df = city_data_df.loc[(city_data_df[\"Lat\"] >= 0)]\n",
    "southern_hemi_df = city_data_df.loc[(city_data_df[\"Lat\"] < 0)]"
   ]
  },
  {
   "cell_type": "code",
   "execution_count": 201,
   "metadata": {},
   "outputs": [
    {
     "data": {
      "image/png": "[encoded data removed]",
      "text/plain": [
       "<Figure size 432x288 with 1 Axes>"
      ]
     },
     "metadata": {
      "needs_background": "light"
     },
     "output_type": "display_data"
    }
   ],
   "source": [
    "# Linear regression on the Northern Hemisphere (no title ?)\n",
    "x_values = northern_hemi_df[\"Lat\"]\n",
    "y_values = northern_hemi_df[\"Max Temp\"]\n",
    "# Call the function.\n",
    "plot_linear_regression(x_values, y_values,\"Linear Regression on the Northern Hemisphere \\n for Maximum Temperature\", 'Max Temp',(10,40))"
   ]
  },
  {
   "cell_type": "code",
   "execution_count": 202,
   "metadata": {},
   "outputs": [
    {
     "data": {
      "image/png": "[encoded data removed]",
      "text/plain": [
       "<Figure size 432x288 with 1 Axes>"
      ]
     },
     "metadata": {
      "needs_background": "light"
     },
     "output_type": "display_data"
    }
   ],
   "source": [
    "# Linear regression on the Southern Hemisphere (no title ?)\n",
    "x_values = southern_hemi_df[\"Lat\"]\n",
    "y_values = southern_hemi_df[\"Max Temp\"]\n",
    "# Call the function.\n",
    "plot_linear_regression(x_values, \n",
    "                       y_values,\n",
    "                       'Linear Regression on the Southern Hemisphere \\n for Maximum Temperature',\n",
    "                       'Max Temp',(-50,90))"
   ]
  },
  {
   "cell_type": "code",
   "execution_count": 203,
   "metadata": {},
   "outputs": [],
   "source": [
    "# NOTE:\n",
    "# If the equation for the regression line doesn't show up on your graph, \n",
    "# you can change the text_coordinates until you see the equation."
   ]
  },
  {
   "cell_type": "code",
   "execution_count": 204,
   "metadata": {},
   "outputs": [],
   "source": [
    "# 6.4.3 .... Find the Correlation Between Latitude and Percent Humidity"
   ]
  },
  {
   "cell_type": "code",
   "execution_count": 205,
   "metadata": {},
   "outputs": [
    {
     "data": {
      "image/png": "[encoded data removed]",
      "text/plain": [
       "<Figure size 432x288 with 1 Axes>"
      ]
     },
     "metadata": {
      "needs_background": "light"
     },
     "output_type": "display_data"
    }
   ],
   "source": [
    "# Linear regression on the Northern Hemisphere (no title ?)\n",
    "x_values = northern_hemi_df[\"Lat\"]\n",
    "y_values = northern_hemi_df[\"Humidity\"]\n",
    "# Call the function.\n",
    "plot_linear_regression(x_values, \n",
    "                       y_values,\n",
    "                       \"Linear Regression on the Northern Hemisphere \\n for % Humidity\", \n",
    "                       '% Humidity',(40,10))"
   ]
  },
  {
   "cell_type": "code",
   "execution_count": 206,
   "metadata": {},
   "outputs": [
    {
     "data": {
      "image/png": "[encoded data removed]",
      "text/plain": [
       "<Figure size 432x288 with 1 Axes>"
      ]
     },
     "metadata": {
      "needs_background": "light"
     },
     "output_type": "display_data"
    }
   ],
   "source": [
    "# Linear regression on the Southern Hemisphere (no title ?)\n",
    "x_values = southern_hemi_df[\"Lat\"]\n",
    "y_values = southern_hemi_df[\"Humidity\"]\n",
    "# Call the function.\n",
    "plot_linear_regression(x_values, \n",
    "                       y_values,\n",
    "                       'Linear Regression on the Southern Hemisphere \\n for % Humidity', \n",
    "                       '% Humidity',(-50,15))"
   ]
  },
  {
   "cell_type": "code",
   "execution_count": 215,
   "metadata": {},
   "outputs": [],
   "source": [
    "# Finding : \n",
    "# The correlation between the latitude and percent humidity is very low \n",
    "# because the r-value is less than 0.04 for the Northern and Southern Hemispheres \n",
    "# for the plots shown here. This means that percent humidity is unpredictable due to \n",
    "# changing weather patterns that can increase or decrease percent humidity. Check the r-values for your plots. "
   ]
  },
  {
   "cell_type": "code",
   "execution_count": 216,
   "metadata": {},
   "outputs": [],
   "source": [
    "# 6.4.4 ... Find the Correlation Between Latitude and Percent Cloudiness.\n"
   ]
  },
  {
   "cell_type": "code",
   "execution_count": 217,
   "metadata": {},
   "outputs": [],
   "source": [
    "## Perform Linear Regression on the Percent Cloudiness for the Northern Hemisphere.\n"
   ]
  },
  {
   "cell_type": "code",
   "execution_count": 226,
   "metadata": {},
   "outputs": [
    {
     "data": {
      "image/png": "[encoded data removed]",
      "text/plain": [
       "<Figure size 432x288 with 1 Axes>"
      ]
     },
     "metadata": {
      "needs_background": "light"
     },
     "output_type": "display_data"
    }
   ],
   "source": [
    "# Linear regression on the Nouthern Hemisphere\n",
    "x_values = northern_hemi_df[\"Lat\"]\n",
    "y_values = northern_hemi_df[\"Cloudiness\"]\n",
    "# Call the function.\n",
    "plot_linear_regression(x_values, \n",
    "                       y_values,\n",
    "                       'Linear Regression on the Northern Hemisphere \\n for % Cloudiness', \n",
    "                       '% Cloudiness',(-50,20))"
   ]
  },
  {
   "cell_type": "code",
   "execution_count": 227,
   "metadata": {},
   "outputs": [
    {
     "data": {
      "image/png": "[encoded data removed]",
      "text/plain": [
       "<Figure size 432x288 with 1 Axes>"
      ]
     },
     "metadata": {
      "needs_background": "light"
     },
     "output_type": "display_data"
    }
   ],
   "source": [
    "# Linear regression on the Southern Hemisphere\n",
    "x_values = southern_hemi_df[\"Lat\"]\n",
    "y_values = southern_hemi_df[\"Cloudiness\"]\n",
    "# Call the function.\n",
    "plot_linear_regression(x_values, y_values,\n",
    "                       'Linear Regression on the Southern Hemisphere \\n for % Cloudiness', \n",
    "                       '% Cloudiness',(-50,60))"
   ]
  },
  {
   "cell_type": "code",
   "execution_count": 228,
   "metadata": {},
   "outputs": [],
   "source": [
    "# Finding:\n",
    "# The correlation between the latitude and percent cloudiness is very low \n",
    "# because the r-value is less than –0.09 for the Northern Hemisphere and \n",
    "# less than –0.02 for the Southern Hemisphere for the plots shown here. \n",
    "# This means that cloudiness is unpredictable due to changing weather patterns \n",
    "# that can increase or decrease percent cloudiness. "
   ]
  },
  {
   "cell_type": "code",
   "execution_count": 229,
   "metadata": {},
   "outputs": [],
   "source": [
    "# 6.4.5 ..Find the Correlation Between Latitude and Wind Speed.\n",
    "# Perform Linear Regression on the Wind Speed for the Northern Hemisphere ."
   ]
  },
  {
   "cell_type": "code",
   "execution_count": 230,
   "metadata": {},
   "outputs": [
    {
     "data": {
      "image/png": "[encoded data removed]",
      "text/plain": [
       "<Figure size 432x288 with 1 Axes>"
      ]
     },
     "metadata": {
      "needs_background": "light"
     },
     "output_type": "display_data"
    }
   ],
   "source": [
    "# Linear regression on the Northern Hemisphere\n",
    "x_values = northern_hemi_df[\"Lat\"]\n",
    "y_values = northern_hemi_df[\"Wind Speed\"]\n",
    "# Call the function.\n",
    "plot_linear_regression(x_values, y_values,\n",
    "                       'Linear Regression on the Northern Hemisphere \\n for Wind Speed', \n",
    "                       'Wind Speed',(40,35))"
   ]
  },
  {
   "cell_type": "code",
   "execution_count": 231,
   "metadata": {},
   "outputs": [],
   "source": [
    "# Perform Linear Regression on the Wind Speed for the Southern Hemisphere."
   ]
  },
  {
   "cell_type": "code",
   "execution_count": 233,
   "metadata": {},
   "outputs": [
    {
     "data": {
      "image/png": "[encoded data removed]",
      "text/plain": [
       "<Figure size 432x288 with 1 Axes>"
      ]
     },
     "metadata": {
      "needs_background": "light"
     },
     "output_type": "display_data"
    }
   ],
   "source": [
    "# Linear regression on the Southern Hemisphere\n",
    "x_values = southern_hemi_df[\"Lat\"]\n",
    "y_values = southern_hemi_df[\"Wind Speed\"]\n",
    "# Call the function.\n",
    "plot_linear_regression(x_values, y_values,\n",
    "                       'Linear Regression on the Southern Hemisphere \\n for Wind Speed', \n",
    "                       'Wind Speed',(-50,35))"
   ]
  },
  {
   "cell_type": "code",
   "execution_count": 234,
   "metadata": {},
   "outputs": [],
   "source": [
    "# Finding:\n",
    "# The correlation between the latitude and wind speed is very low because \n",
    "# the r-value is less  than –0.07 for the Northern Hemisphere and \n",
    "# less than –0.3 for the Southern Hemisphere for the plots shown here. \n",
    "# This means that wind speed is unpredictable due to changing weather patterns \n",
    "# that can increase or decrease wind speed. \n",
    "    "
   ]
  },
  {
   "cell_type": "code",
   "execution_count": 235,
   "metadata": {},
   "outputs": [],
   "source": [
    "# 6.5.1..Set Up Google Maps and Places API ."
   ]
  },
  {
   "cell_type": "code",
   "execution_count": null,
   "metadata": {},
   "outputs": [],
   "source": [
    "# 6.5.2 ... Create Heatmaps for Weather Parameters."
   ]
  },
  {
   "cell_type": "code",
   "execution_count": null,
   "metadata": {},
   "outputs": [],
   "source": []
  }
 ],
 "metadata": {
  "kernelspec": {
   "display_name": "PythonData",
   "language": "python",
   "name": "pythondata"
  },
  "language_info": {
   "codemirror_mode": {
    "name": "ipython",
    "version": 3
   },
   "file_extension": ".py",
   "mimetype": "text/x-python",
   "name": "python",
   "nbconvert_exporter": "python",
   "pygments_lexer": "ipython3",
   "version": "3.7.7"
  }
 },
 "nbformat": 4,
 "nbformat_minor": 4
}
